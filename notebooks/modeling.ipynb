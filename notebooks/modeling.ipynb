{
 "cells": [
  {
   "cell_type": "markdown",
   "metadata": {},
   "source": [
    "# Resume Classifier: ML Modeling Notebook\n",
    "\n",
    "In this notebook, we're going to:\n",
    "- encode our data\n",
    "- split it into train and test\n",
    "- train 3 models to predict `hire` or `reject`\n",
    "- Check which model works best\n",
    "\n",
    "Target column: **Recruiter Decision**"
   ]
  },
  {
   "cell_type": "code",
   "execution_count": 10,
   "metadata": {},
   "outputs": [],
   "source": [
    "# Import Libraries\n",
    "import pandas as pd \n",
    "import numpy as np \n",
    "import matplotlib.pyplot as plt \n",
    "import seaborn as sns\n",
    "from sklearn.model_selection import train_test_split, cross_val_score\n",
    "from sklearn.preprocessing import StandardScaler, LabelEncoder, OneHotEncoder\n",
    "from sklearn.linear_model import LogisticRegression\n",
    "from sklearn.ensemble import RandomForestClassifier\n",
    "from sklearn.metrics import accuracy_score, confusion_matrix, classification_report\n",
    "from xgboost import XGBClassifier"
   ]
  },
  {
   "cell_type": "code",
   "execution_count": 2,
   "metadata": {},
   "outputs": [],
   "source": [
    "# Load cleaned data \n",
    "df = pd.read_csv('../data/cleaned_resume_dataset.csv')"
   ]
  },
  {
   "cell_type": "code",
   "execution_count": 3,
   "metadata": {},
   "outputs": [],
   "source": [
    "# Encode Categorical Variables\n",
    "# Make a copy\n",
    "df_ml = df.copy()\n",
    "\n",
    "# Encode the target label: \"Recruiter Decision\" (Hire = 1, Reject = 0)\n",
    "df_ml['Recruiter Decision'] = df_ml['Recruiter Decision'].map({'Hire': 1, 'Reject': 0})\n",
    "\n",
    "# Encode categorical variables using LabelEncoder or pd.get_dummies\n",
    "categorical_cols = ['Job Role', 'Education', 'Certifications']\n",
    "\n",
    "# Option 1: LabelEncoder (Simple)\n",
    "le = LabelEncoder()\n",
    "for col in categorical_cols:\n",
    "    df_ml[col] = le.fit_transform(df_ml[col])\n",
    "\n",
    "# Optional: Use pd.get_dummies() instead if categories are non-ordinal\n",
    "# df_ml = pd.get_dummies(df_ml, columns=categorical_cols)"
   ]
  },
  {
   "cell_type": "code",
   "execution_count": 4,
   "metadata": {},
   "outputs": [],
   "source": [
    "# Feature Scaling (Optional)\n",
    "# Select numerical features to scale\n",
    "numerical_cols = ['Experience (Years)', 'AI Score (0-100)', 'Projects Count', 'Salary Expectation ($)', 'Skill Count']\n",
    "\n",
    "# One-hot encode categorical features\n",
    "categorical_cols = ['Job Role', 'Education', 'Certifications']\n",
    "df_encoded = pd.get_dummies(df_ml, columns=categorical_cols, drop_first=True)\n",
    "\n",
    "# Scale numeric columns\n",
    "scaler = StandardScaler()\n",
    "df_encoded[numerical_cols] = scaler.fit_transform(df_encoded[numerical_cols])"
   ]
  },
  {
   "cell_type": "markdown",
   "metadata": {},
   "source": [
    "We one-hot encode text columns like Job Role and scale only the numeric ones (e.g., experience, AI score, salary). We use StandardScaler to help models like Logistic Regression understand features better."
   ]
  },
  {
   "cell_type": "code",
   "execution_count": 5,
   "metadata": {},
   "outputs": [],
   "source": [
    "# Target Splits\n",
    "X = df_encoded.drop(['Recruiter Decision', 'Skills'], axis=1)\n",
    "y = df_encoded['Recruiter Decision']\n",
    "\n",
    "\n",
    "X_train, X_test, y_train, y_test = train_test_split(X, y, test_size=0.2, random_state=42)"
   ]
  },
  {
   "cell_type": "markdown",
   "metadata": {},
   "source": [
    "We split the data into training and test sets to evaluate our model fairly."
   ]
  },
  {
   "cell_type": "code",
   "execution_count": 7,
   "metadata": {},
   "outputs": [
    {
     "name": "stdout",
     "output_type": "stream",
     "text": [
      "Logistic Regression CV Accuracy: 0.997 ± 0.003\n",
      "Random Forest CV Accuracy: 1.000 ± 0.000\n",
      "XGBoost CV Accuracy: 1.000 ± 0.000\n"
     ]
    },
    {
     "name": "stderr",
     "output_type": "stream",
     "text": [
      "/opt/anaconda3/envs/cohort_env/lib/python3.12/site-packages/xgboost/training.py:183: UserWarning: [17:33:41] WARNING: /Users/runner/work/xgboost/xgboost/src/learner.cc:738: \n",
      "Parameters: { \"use_label_encoder\" } are not used.\n",
      "\n",
      "  bst.update(dtrain, iteration=i, fobj=obj)\n",
      "/opt/anaconda3/envs/cohort_env/lib/python3.12/site-packages/xgboost/training.py:183: UserWarning: [17:33:41] WARNING: /Users/runner/work/xgboost/xgboost/src/learner.cc:738: \n",
      "Parameters: { \"use_label_encoder\" } are not used.\n",
      "\n",
      "  bst.update(dtrain, iteration=i, fobj=obj)\n",
      "/opt/anaconda3/envs/cohort_env/lib/python3.12/site-packages/xgboost/training.py:183: UserWarning: [17:33:41] WARNING: /Users/runner/work/xgboost/xgboost/src/learner.cc:738: \n",
      "Parameters: { \"use_label_encoder\" } are not used.\n",
      "\n",
      "  bst.update(dtrain, iteration=i, fobj=obj)\n",
      "/opt/anaconda3/envs/cohort_env/lib/python3.12/site-packages/xgboost/training.py:183: UserWarning: [17:33:41] WARNING: /Users/runner/work/xgboost/xgboost/src/learner.cc:738: \n",
      "Parameters: { \"use_label_encoder\" } are not used.\n",
      "\n",
      "  bst.update(dtrain, iteration=i, fobj=obj)\n",
      "/opt/anaconda3/envs/cohort_env/lib/python3.12/site-packages/xgboost/training.py:183: UserWarning: [17:33:41] WARNING: /Users/runner/work/xgboost/xgboost/src/learner.cc:738: \n",
      "Parameters: { \"use_label_encoder\" } are not used.\n",
      "\n",
      "  bst.update(dtrain, iteration=i, fobj=obj)\n"
     ]
    }
   ],
   "source": [
    "# Train 3 Models with Cross-Validation\n",
    "models = {\n",
    "    \"Logistic Regression\": LogisticRegression(max_iter=1000),\n",
    "    \"Random Forest\": RandomForestClassifier(random_state=42),\n",
    "    \"XGBoost\": XGBClassifier(use_label_encoder=False, eval_metric='logloss')\n",
    "}\n",
    "\n",
    "for name, model in models.items():\n",
    "    scores = cross_val_score(model, X_train, y_train, cv=5, scoring='accuracy')\n",
    "    print(f\"{name} CV Accuracy: {scores.mean():.3f} ± {scores.std():.3f}\")"
   ]
  },
  {
   "cell_type": "markdown",
   "metadata": {},
   "source": [
    "We test three models using 5-fold cross-validation. This means the model is tested on 5 different pieces of the data, which helps avoid lucky or unlucky splits. \n",
    "\n",
    "#### Model Interpretation\n",
    "- Logistic Regression shows strong predictive performance with 99.7% average accuracy, indicating a nearly perfect ability to distinguish between \"Hire\" and \"Reject.\"\n",
    "\n",
    "- Random Forest and XGBoost both achieved a perfect 100% cross-validated accuracy, suggesting they captured the underlying patterns in the data exceptionally well.\n",
    "\n",
    "- The standard deviation for Random Forest and XGBoost is 0.000, indicating consistent performance across all validation folds.\n",
    "\n",
    "- Logistic Regression has a slightly higher variance (std: 0.003), implying it's a bit more sensitive to data splits.\n",
    "\n",
    "- All three models are viable, but Random Forest and XGBoost appear more robust and precise."
   ]
  },
  {
   "cell_type": "code",
   "execution_count": null,
   "metadata": {},
   "outputs": [
    {
     "name": "stdout",
     "output_type": "stream",
     "text": [
      "              precision    recall  f1-score   support\n",
      "\n",
      "           0       1.00      1.00      1.00        46\n",
      "           1       1.00      1.00      1.00       154\n",
      "\n",
      "    accuracy                           1.00       200\n",
      "   macro avg       1.00      1.00      1.00       200\n",
      "weighted avg       1.00      1.00      1.00       200\n",
      "\n"
     ]
    }
   ],
   "source": [
    "# Train & Evaluate Best Model + Feature Importance\n",
    "# Fit final model (e.g., Random Forest)\n",
    "best_model = RandomForestClassifier(random_state=42)\n",
    "best_model.fit(X_train, y_train)\n",
    "\n",
    "# Evaluate on test set\n",
    "y_pred = best_model.predict(X_test)\n",
    "print(classification_report(y_test, y_pred))\n"
   ]
  },
  {
   "cell_type": "markdown",
   "metadata": {},
   "source": [
    "#### Confusion Matrix Interpretation \n",
    "- True Positives (TP): All actual \"Hire\" cases were correctly predicted, indicating excellent recall.\n",
    "\n",
    "- True Negatives (TN): All actual \"Reject\" cases were also correctly predicted, showing strong specificity.\n",
    "\n",
    "- No False Positives or False Negatives, meaning zero misclassifications.\n",
    "\n",
    "Non-Technical:\n",
    "- The model made perfect predictions — it never said “Hire” when it should’ve said “Reject,” and vice versa.\n",
    "\n",
    "- Recruiters can confidently rely on the model to assist hiring decisions.\n",
    "\n",
    "- The tool behaves like a highly accurate advisor, matching past recruiter decisions every time."
   ]
  },
  {
   "cell_type": "code",
   "execution_count": 13,
   "metadata": {},
   "outputs": [
    {
     "data": {
      "image/png": "[encoded data removed]",
      "text/plain": [
       "<Figure size 1000x600 with 1 Axes>"
      ]
     },
     "metadata": {},
     "output_type": "display_data"
    }
   ],
   "source": [
    "# Feature Importance Plot\n",
    "# Plot top 10 features\n",
    "importances = best_model.feature_importances_\n",
    "features = X.columns\n",
    "feat_imp = pd.Series(importances, index=features).sort_values(ascending=False)\n",
    "\n",
    "plt.figure(figsize=(10,6))\n",
    "sns.barplot(x=feat_imp[:10], y=feat_imp.index[:10])\n",
    "plt.title(\"Top 10 Important Features (Random Forest)\")\n",
    "plt.xlabel('Importance')\n",
    "plt.ylabel('Feature')\n",
    "plt.show()"
   ]
  },
  {
   "cell_type": "markdown",
   "metadata": {},
   "source": [
    "We evaluate how well the model performs on the test set, and then we visualize which features influenced the decisions the most.\n",
    "- **AI Score (60%):** This was the strongest indicator of recruiter decision, suggesting recruiters heavily relied on the algorithm’s confidence in a candidate.\n",
    "\n",
    "- **Experience in Years (20%):** Recruiters placed substantial weight on prior experience, possibly as a proxy for maturity or depth in the field.\n",
    "\n",
    "- **Project Count (10%):** A candidate's practical output (projects completed) contributed meaningfully to hire decisions."
   ]
  },
  {
   "cell_type": "code",
   "execution_count": 14,
   "metadata": {},
   "outputs": [],
   "source": [
    "# Save Model with Pickle\n",
    "import pickle\n",
    "\n",
    "# Save the trained model\n",
    "with open(\"best_model.pkl\", \"wb\") as f:\n",
    "    pickle.dump(best_model, f)\n"
   ]
  },
  {
   "cell_type": "markdown",
   "metadata": {},
   "source": [
    "We use pickle to save the model so we can load and use it later inside a web app."
   ]
  },
  {
   "cell_type": "markdown",
   "metadata": {},
   "source": [
    "## **Analysis & Results**\n",
    "\n",
    "Our EDA uncovered valuable insights. The AI Score distribution is highly left-skewed, with over 500 candidates receiving a perfect score of 100, suggesting potential generosity in scoring or exceptionally qualified applicants. Skill Count followed a multimodal pattern, peaking at 3–4 skills, which could reflect a hiring preference for well-rounded but not overly generalized applicants. Bivariate analysis confirmed that hired candidates tend to have significantly more experience (averaging 4.8 years) compared to rejected ones (1 year on average). Salary expectations were similar across both groups, but slightly higher for those hired, with no outliers detected. A correlation heatmap revealed that AI Score and Experience were strongly correlated (r = 0.78), while Project Count also moderately correlated with AI Score (r = 0.36). A t-test confirmed the statistical significance of AI Score in predicting hiring decisions.\n",
    "\n",
    "Cross-validation showed nearly perfect model performance. Random Forest and XGBoost both achieved 100% accuracy with no variation across folds, while Logistic Regression came close at 99.7% (±0.003). The confusion matrix confirmed zero misclassifications, highlighting model reliability. Feature importance rankings aligned with our EDA: AI Score (60%) dominated, followed by Experience (20%) and Project Count (10%). These findings mirror real-world recruitment patterns where algorithmic scoring, prior experience, and tangible project work are top hiring factors.\n",
    "\n",
    "#### **Recommendations**\n",
    "\n",
    "- Continue prioritizing AI Score, but periodically audit the scoring algorithm for fairness and drift.\n",
    "- Highlight Experience and Project Count on resumes and digital profiles to increase hireability.\n",
    "- Refactor job applications to align with the identified sweet spot of 3–4 skills.\n",
    "- Automate resume parsing for streamlined data ingestion and feature extraction.\n",
    "- Develop recruiter-facing dashboards that emphasize top predictive features.\n",
    "\n",
    "**Conclusion**\n",
    "\n",
    "Our model is highly accurate and fully aligned with real recruiter behavior. It incorporates both algorithmic and traditional human decision-making factors and performs flawlessly in test scenarios. With the AI Score as the most influential metric, supported by Experience and Project Count, the model demonstrates practical utility and technical robustness. Deploying this model can dramatically reduce manual screening time while maintaining hiring quality.\n",
    "\n",
    "**Additional Insights**\n",
    "\n",
    "- AI Scores being skewed to 100 may lead to saturation in top-end candidate comparisons — refinement of scoring logic may be warranted.\n",
    "- The 3–4 skill range could represent a hiring “sweet spot,” useful for both candidate optimization and job description tailoring.\n",
    "- Salary expectations do not play a major role in recruiter decisions, suggesting a fair and merit-based selection process.\n",
    "\n",
    "**Strategic Enhancements**\n",
    "\n",
    "- Integrate NLP-based resume parsers for richer, contextual candidate insights.\n",
    "- Introduce a recruiter confidence feedback loop to fine-tune predictions.\n",
    "- Use unsupervised learning to segment candidates into strategy-driven personas.\n",
    "\n",
    "**Next Steps**\n",
    "\n",
    "- Deploy the best-performing model via a Streamlit web app to enable recruiter interaction.\n",
    "- Save the trained model using pickle or joblib and load it in production environments.\n",
    "- Start collecting new hiring data to retrain the model regularly, ensuring continuous improvement.\n",
    "\n",
    "**Non-Technical Summary**\n",
    "\n",
    "We developed an AI-based hiring assistant that perfectly mirrors recruiter decisions using data from resumes. The model relies on AI Scores, experience, and projects to predict whether a candidate should be hired. With no errors during testing, it’s a powerful tool for saving time and increasing hiring confidence.\n",
    "\n",
    "**Technical Summary**\n",
    "\n",
    "We trained classification models (Logistic Regression, Random Forest, XGBoost) on one-hot encoded and scaled resume data. The dataset had no missing values or outliers. Random Forest and XGBoost achieved perfect accuracy (100%) with zero misclassifications, supported by strong feature importance in AI Score (60%), Experience (20%), and Project Count (10%). Statistically significant differences in AI Score across hire decisions and strong correlations with experience further validate model assumptions. This production-ready model can now be deployed in a web application and continuously improved with new data.\n",
    "\n",
    "\n",
    "\n",
    "\n"
   ]
  }
 ],
 "metadata": {
  "kernelspec": {
   "display_name": "cohort_env",
   "language": "python",
   "name": "python3"
  },
  "language_info": {
   "codemirror_mode": {
    "name": "ipython",
    "version": 3
   },
   "file_extension": ".py",
   "mimetype": "text/x-python",
   "name": "python",
   "nbconvert_exporter": "python",
   "pygments_lexer": "ipython3",
   "version": "3.12.5"
  }
 },
 "nbformat": 4,
 "nbformat_minor": 2
}
